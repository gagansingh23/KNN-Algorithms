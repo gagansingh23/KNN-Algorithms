{
  "nbformat": 4,
  "nbformat_minor": 0,
  "metadata": {
    "colab": {
      "name": "KNN_Implementation.ipynb",
      "provenance": [],
      "collapsed_sections": [],
      "authorship_tag": "ABX9TyOoWmGsR+j85S04WVUXJjRj",
      "include_colab_link": true
    },
    "kernelspec": {
      "name": "python3",
      "display_name": "Python 3"
    }
  },
  "cells": [
    {
      "cell_type": "markdown",
      "metadata": {
        "id": "view-in-github",
        "colab_type": "text"
      },
      "source": [
        "<a href=\"https://colab.research.google.com/github/gagansingh23/KNN-Algorithms/blob/main/KNN_Implementation.ipynb\" target=\"_parent\"><img src=\"https://colab.research.google.com/assets/colab-badge.svg\" alt=\"Open In Colab\"/></a>"
      ]
    },
    {
      "cell_type": "code",
      "metadata": {
        "id": "mE5qj82fuDXd"
      },
      "source": [
        "import numpy as np\n",
        "import scipy.spatial\n",
        "from collections import Counter\n",
        "import pandas as pd\n",
        "from sklearn.model_selection import train_test_split\n",
        "\n",
        "#numpy for arithmetic operations\n",
        "#scipy for euclidean distance between 2 points\n",
        "#collections will calculate number of closest neighbors"
      ],
      "execution_count": null,
      "outputs": []
    },
    {
      "cell_type": "code",
      "metadata": {
        "id": "zTbXSkoWUivv"
      },
      "source": [
        "X =  [[1590,2.9], [1540,2.7], [1600,2.6], [1590,2.7], [1520,2.5], [1540,2.4], [1560,2.3], [1490,2.3], [1510,2.4],\n",
        "     [1350,3.9], [1360,3.7], [1370,3.8], [1380,3.7], [1410,3.6], [1420,3.9], [1430,3.4], [1450,3.7], [1460,3.2],\n",
        "     [1590,3.9], [1540,3.7], [1600,3.6], [1490,3.7], [1520,3.5], [1540,3.4], [1560,3.3], [1460,3.3], [1510,3.4],\n",
        "     [1340,2.9], [1360,2.4], [1320,2.5], [1380,2.6], [1400,2.1], [1320,2.5], [1310,2.7], [1410,2.1], [1305,2.5],\n",
        "     [1460,2.7], [1500,2.9], [1300,3.5], [1320,3.6], [1400,2.7], [1300,3.1], [1350,3.1], [1360,2.9], [1305,3.9], \n",
        "     [1430,3.0], [1440,2.3], [1440,2.5], [1380,2.1], [1430,2.1], [1400,2.5], [1420,2.3], [1310,2.1], [1350,2.0]]\n",
        "\n",
        "\n",
        "Y = ['accepted','accepted','accepted','accepted','accepted','accepted','accepted','accepted','accepted',\n",
        "     'accepted','accepted','accepted','accepted','accepted','accepted','accepted','accepted','accepted',\n",
        "     'accepted','accepted','accepted','accepted','accepted','accepted','accepted','accepted','accepted',\n",
        "     'rejected','rejected','rejected','rejected','rejected','rejected','rejected','rejected','rejected',\n",
        "     'rejected','rejected','rejected','rejected','rejected','rejected','rejected','rejected','rejected',\n",
        "     'rejected','rejected','rejected','rejected','rejected','rejected','rejected','rejected','rejected']"
      ],
      "execution_count": null,
      "outputs": []
    },
    {
      "cell_type": "code",
      "metadata": {
        "id": "vdd4w8zaxjdS",
        "colab": {
          "base_uri": "https://localhost:8080/",
          "height": 282
        },
        "outputId": "338f2935-90b8-4657-f2ca-efe00ee6b693"
      },
      "source": [
        "from matplotlib import pyplot as plt \n",
        "\n",
        "for i in range(len(X)):\n",
        "    if Y[i] == 'accepted':\n",
        "        plt.scatter(X[i][0], X[i][1], s=120, marker='P', linewidths=2, color='green')\n",
        "    else:\n",
        "        plt.scatter(X[i][0], X[i][1], s=120, marker='P', linewidths=2, color='red')\n",
        "        \n",
        "plt.plot()"
      ],
      "execution_count": null,
      "outputs": [
        {
          "output_type": "execute_result",
          "data": {
            "text/plain": [
              "[]"
            ]
          },
          "metadata": {
            "tags": []
          },
          "execution_count": 5
        },
        {
          "output_type": "display_data",
          "data": {
            "image/png": "[encoded data removed]",
            "text/plain": [
              "<Figure size 432x288 with 1 Axes>"
            ]
          },
          "metadata": {
            "tags": [],
            "needs_background": "light"
          }
        }
      ]
    },
    {
      "cell_type": "code",
      "metadata": {
        "id": "qO0hfI6mbYma"
      },
      "source": [
        "df2 = pd.DataFrame(X)\n",
        "df2['Y'] = Y\n",
        "df2.columns = ['SAT', 'GPA', 'Grade']\n"
      ],
      "execution_count": null,
      "outputs": []
    },
    {
      "cell_type": "code",
      "metadata": {
        "id": "6UOWH-GjH2ly",
        "colab": {
          "base_uri": "https://localhost:8080/",
          "height": 359
        },
        "outputId": "3bd863fe-2a26-4edc-e39c-28013c66334f"
      },
      "source": [
        "df2[20:30]"
      ],
      "execution_count": null,
      "outputs": [
        {
          "output_type": "execute_result",
          "data": {
            "text/html": [
              "<div>\n",
              "<style scoped>\n",
              "    .dataframe tbody tr th:only-of-type {\n",
              "        vertical-align: middle;\n",
              "    }\n",
              "\n",
              "    .dataframe tbody tr th {\n",
              "        vertical-align: top;\n",
              "    }\n",
              "\n",
              "    .dataframe thead th {\n",
              "        text-align: right;\n",
              "    }\n",
              "</style>\n",
              "<table border=\"1\" class=\"dataframe\">\n",
              "  <thead>\n",
              "    <tr style=\"text-align: right;\">\n",
              "      <th></th>\n",
              "      <th>SAT</th>\n",
              "      <th>GPA</th>\n",
              "      <th>Grade</th>\n",
              "    </tr>\n",
              "  </thead>\n",
              "  <tbody>\n",
              "    <tr>\n",
              "      <th>20</th>\n",
              "      <td>1600.0</td>\n",
              "      <td>3.6</td>\n",
              "      <td>accepted</td>\n",
              "    </tr>\n",
              "    <tr>\n",
              "      <th>21</th>\n",
              "      <td>1490.0</td>\n",
              "      <td>3.7</td>\n",
              "      <td>accepted</td>\n",
              "    </tr>\n",
              "    <tr>\n",
              "      <th>22</th>\n",
              "      <td>1520.0</td>\n",
              "      <td>3.5</td>\n",
              "      <td>accepted</td>\n",
              "    </tr>\n",
              "    <tr>\n",
              "      <th>23</th>\n",
              "      <td>1540.0</td>\n",
              "      <td>3.4</td>\n",
              "      <td>accepted</td>\n",
              "    </tr>\n",
              "    <tr>\n",
              "      <th>24</th>\n",
              "      <td>1560.0</td>\n",
              "      <td>3.3</td>\n",
              "      <td>accepted</td>\n",
              "    </tr>\n",
              "    <tr>\n",
              "      <th>25</th>\n",
              "      <td>1460.0</td>\n",
              "      <td>3.3</td>\n",
              "      <td>accepted</td>\n",
              "    </tr>\n",
              "    <tr>\n",
              "      <th>26</th>\n",
              "      <td>1510.0</td>\n",
              "      <td>3.4</td>\n",
              "      <td>accepted</td>\n",
              "    </tr>\n",
              "    <tr>\n",
              "      <th>27</th>\n",
              "      <td>1340.0</td>\n",
              "      <td>2.9</td>\n",
              "      <td>rejected</td>\n",
              "    </tr>\n",
              "    <tr>\n",
              "      <th>28</th>\n",
              "      <td>1360.0</td>\n",
              "      <td>2.4</td>\n",
              "      <td>rejected</td>\n",
              "    </tr>\n",
              "    <tr>\n",
              "      <th>29</th>\n",
              "      <td>1320.0</td>\n",
              "      <td>2.5</td>\n",
              "      <td>rejected</td>\n",
              "    </tr>\n",
              "  </tbody>\n",
              "</table>\n",
              "</div>"
            ],
            "text/plain": [
              "       SAT  GPA     Grade\n",
              "20  1600.0  3.6  accepted\n",
              "21  1490.0  3.7  accepted\n",
              "22  1520.0  3.5  accepted\n",
              "23  1540.0  3.4  accepted\n",
              "24  1560.0  3.3  accepted\n",
              "25  1460.0  3.3  accepted\n",
              "26  1510.0  3.4  accepted\n",
              "27  1340.0  2.9  rejected\n",
              "28  1360.0  2.4  rejected\n",
              "29  1320.0  2.5  rejected"
            ]
          },
          "metadata": {
            "tags": []
          },
          "execution_count": 70
        }
      ]
    },
    {
      "cell_type": "code",
      "metadata": {
        "id": "16VwDwY2s68U",
        "colab": {
          "base_uri": "https://localhost:8080/",
          "height": 34
        },
        "outputId": "dd5f9992-b8b7-4216-c17c-84200c1e388c"
      },
      "source": [
        "df2.to_csv('data.csv')\n",
        "!cp data.csv \"drive/My Drive/\""
      ],
      "execution_count": null,
      "outputs": [
        {
          "output_type": "stream",
          "text": [
            "cp: cannot create regular file 'drive/My Drive/': No such file or directory\n"
          ],
          "name": "stdout"
        }
      ]
    },
    {
      "cell_type": "code",
      "metadata": {
        "id": "Fy4gQaExyY3z",
        "colab": {
          "base_uri": "https://localhost:8080/",
          "height": 85
        },
        "outputId": "634f83e5-8ea2-4105-c36f-53664ce3f26f"
      },
      "source": [
        "df2.dtypes"
      ],
      "execution_count": null,
      "outputs": [
        {
          "output_type": "execute_result",
          "data": {
            "text/plain": [
              "SAT        int64\n",
              "GPA      float64\n",
              "Grade     object\n",
              "dtype: object"
            ]
          },
          "metadata": {
            "tags": []
          },
          "execution_count": 7
        }
      ]
    },
    {
      "cell_type": "code",
      "metadata": {
        "id": "yhIRNKRscuwi"
      },
      "source": [
        "target = df2['Grade']\n",
        "data = df2.drop('Grade', axis=1)\n"
      ],
      "execution_count": null,
      "outputs": []
    },
    {
      "cell_type": "code",
      "metadata": {
        "id": "sU_FeqLTsgcT",
        "colab": {
          "base_uri": "https://localhost:8080/",
          "height": 34
        },
        "outputId": "eda3b0b6-8be3-4639-aebc-1a48cc8e61e9"
      },
      "source": [
        "data = np.array(data)\n",
        "print(data[0])"
      ],
      "execution_count": null,
      "outputs": [
        {
          "output_type": "stream",
          "text": [
            "[1590.     2.9]\n"
          ],
          "name": "stdout"
        }
      ]
    },
    {
      "cell_type": "code",
      "metadata": {
        "id": "EW7GS9KpghBz",
        "colab": {
          "base_uri": "https://localhost:8080/",
          "height": 34
        },
        "outputId": "f42aa801-012d-43ff-f1b3-0ddc650726af"
      },
      "source": [
        "labels = np.array(target)\n",
        "labels.shape"
      ],
      "execution_count": null,
      "outputs": [
        {
          "output_type": "execute_result",
          "data": {
            "text/plain": [
              "(54,)"
            ]
          },
          "metadata": {
            "tags": []
          },
          "execution_count": 10
        }
      ]
    },
    {
      "cell_type": "code",
      "metadata": {
        "id": "hvH9o22ns_H3"
      },
      "source": [
        "X, y = data, labels"
      ],
      "execution_count": null,
      "outputs": []
    },
    {
      "cell_type": "code",
      "metadata": {
        "id": "1VlKwVWSs54A"
      },
      "source": [
        "from sklearn import datasets\n",
        "from sklearn.model_selection import train_test_split\n",
        "import scipy.spatial\n",
        "X_train, X_test, y_train, y_test = train_test_split(X, y, random_state = 42, test_size = 0.2)"
      ],
      "execution_count": null,
      "outputs": []
    },
    {
      "cell_type": "code",
      "metadata": {
        "id": "-cgvZY6Mpkiu"
      },
      "source": [
        "data = np.array(X)\n",
        "target = np.array(Y)"
      ],
      "execution_count": null,
      "outputs": []
    },
    {
      "cell_type": "code",
      "metadata": {
        "id": "kNgEV-B2kibb"
      },
      "source": [
        "import numpy as np\n",
        "from collections import Counter\n",
        "\n",
        "\n",
        "# def euclidean_distance(x1, x2):\n",
        "#         return np.sqrt(np.sum((x1 - x2)**2))\n",
        "\n",
        "\n",
        "class KNN:\n",
        "\n",
        "    def __init__(self, k=3):\n",
        "        self.k = k\n",
        "\n",
        "    def fit(self, X, y):\n",
        "        self.X_train = X\n",
        "        self.y_train = y\n",
        "\n",
        "    def predict(self, X):\n",
        "        y_pred = [self.get_neighbors(x) for x in X]\n",
        "        return np.array(y_pred)\n",
        "\n",
        "    def get_neighbors(self, x):\n",
        "        # Compute distances between x and all examples in the training set\n",
        "        dist = [scipy.spatial.distance.euclidean(x, x_train) for x_train in self.X_train]\n",
        "        # Sort by distance and return indices of the first k neighbors\n",
        "        first_neighbors = np.argsort(dist)[:self.k]\n",
        "        # Extract the labels of the k nearest neighbor training samples\n",
        "        for i in first_neighbors:\n",
        "            return self.y_train[i]\n",
        "        k_neighbor_labels = self.y_train[i]\n",
        "        # return the most common class label\n",
        "        nearest_neighbors = Counter(k_neighbor_labels).most_common(1)\n",
        "        return nearest_neighbors[0][0]\n",
        "      \n",
        "    \n"
      ],
      "execution_count": null,
      "outputs": []
    },
    {
      "cell_type": "code",
      "metadata": {
        "id": "ylcBq0GgskNp"
      },
      "source": [
        ""
      ],
      "execution_count": null,
      "outputs": []
    },
    {
      "cell_type": "code",
      "metadata": {
        "id": "F-qG6bG1gfO7"
      },
      "source": [
        "  # def _predict(self, x):\n",
        "  #       # Compute distances between x and all examples in the training set\n",
        "  #       distances = [scipy.spatial.distance.euclidean(x, x_train) for x_train in self.X_train]\n",
        "  #       # Sort by distance and return indices of the first k neighbors\n",
        "  #       k_idx = np.argsort(distances)[:self.k]\n",
        "  #       # Extract the labels of the k nearest neighbor training samples\n",
        "  #       k_neighbor_labels = [self.y_train[i] for i in k_idx]  \n",
        "  #       # return the most common class label\n",
        "  #       most_common = Counter(k_neighbor_labels).most_common(1)\n",
        "  #       return most_common[0][0]"
      ],
      "execution_count": null,
      "outputs": []
    },
    {
      "cell_type": "code",
      "metadata": {
        "id": "whKfM2fqwMEY",
        "colab": {
          "base_uri": "https://localhost:8080/",
          "height": 34
        },
        "outputId": "fdcd3d6f-7ced-42fa-bbac-a70945bec198"
      },
      "source": [
        "clf = KNN(k=3)\n",
        "clf.fit(X_train, y_train)\n",
        "y_pred = clf.predict([[1700, 3.5]])\n",
        "print(y_pred)"
      ],
      "execution_count": null,
      "outputs": [
        {
          "output_type": "stream",
          "text": [
            "['accepted']\n"
          ],
          "name": "stdout"
        }
      ]
    },
    {
      "cell_type": "code",
      "metadata": {
        "id": "KXmXdUD_o8sc",
        "colab": {
          "base_uri": "https://localhost:8080/",
          "height": 34
        },
        "outputId": "f9d14ac0-1b4f-40d8-a292-a60dd2d282c9"
      },
      "source": [
        "clf = KNN(3)\n",
        "clf.fit(X_train, y_train)\n",
        "prediction = clf.predict(X_test)\n",
        "for i in prediction:\n",
        "    print(i, end= ' ')"
      ],
      "execution_count": null,
      "outputs": [
        {
          "output_type": "stream",
          "text": [
            "accepted rejected rejected rejected rejected accepted accepted rejected accepted rejected rejected "
          ],
          "name": "stdout"
        }
      ]
    },
    {
      "cell_type": "code",
      "metadata": {
        "id": "kv0v_7HkpNn9",
        "colab": {
          "base_uri": "https://localhost:8080/",
          "height": 68
        },
        "outputId": "bb85d640-bba2-4d73-8ffb-539a425bdc59"
      },
      "source": [
        "y_test"
      ],
      "execution_count": null,
      "outputs": [
        {
          "output_type": "execute_result",
          "data": {
            "text/plain": [
              "array(['accepted', 'rejected', 'rejected', 'accepted', 'rejected',\n",
              "       'accepted', 'accepted', 'rejected', 'accepted', 'rejected',\n",
              "       'accepted'], dtype=object)"
            ]
          },
          "metadata": {
            "tags": []
          },
          "execution_count": 58
        }
      ]
    },
    {
      "cell_type": "code",
      "metadata": {
        "id": "bE3IIQtypV98",
        "colab": {
          "base_uri": "https://localhost:8080/",
          "height": 282
        },
        "outputId": "8284bbe6-0261-4631-e01f-8a99de1af506"
      },
      "source": [
        "plt.scatter(prediction, y_test)\n"
      ],
      "execution_count": null,
      "outputs": [
        {
          "output_type": "execute_result",
          "data": {
            "text/plain": [
              "<matplotlib.collections.PathCollection at 0x7fabe85394e0>"
            ]
          },
          "metadata": {
            "tags": []
          },
          "execution_count": 61
        },
        {
          "output_type": "display_data",
          "data": {
            "image/png": "[encoded data removed]",
            "text/plain": [
              "<Figure size 432x288 with 1 Axes>"
            ]
          },
          "metadata": {
            "tags": [],
            "needs_background": "light"
          }
        }
      ]
    },
    {
      "cell_type": "code",
      "metadata": {
        "id": "liWKGo2soahs"
      },
      "source": [
        "from matplotlib import pyplot as plt \n",
        "\n",
        "for i in range(len(X)):\n",
        "    if Y[i] == 'accepted':\n",
        "        plt.scatter(X[i][0], X[i][1], s=120, marker='P', linewidths=2, color='green')\n",
        "    else:\n",
        "        plt.scatter(X[i][0], X[i][1], s=120, marker='P', linewidths=2, color='red')\n",
        "        \n",
        "plt.plot()"
      ],
      "execution_count": null,
      "outputs": []
    },
    {
      "cell_type": "code",
      "metadata": {
        "id": "ETYRntY4lERs",
        "colab": {
          "base_uri": "https://localhost:8080/",
          "height": 34
        },
        "outputId": "c1061572-c022-4796-96f2-2c0f2e8f3fa5"
      },
      "source": [
        "\n",
        "#SKLEARN Model\n",
        "\n",
        "from sklearn.neighbors import KNeighborsClassifier\n",
        "classifier = KNeighborsClassifier(n_neighbors=3)\n",
        "classifier.fit(X_train, y_train)\n",
        "y_pred = classifier.predict([[1700, 3.5]])\n",
        "print(y_pred)"
      ],
      "execution_count": null,
      "outputs": [
        {
          "output_type": "stream",
          "text": [
            "['accepted']\n"
          ],
          "name": "stdout"
        }
      ]
    },
    {
      "cell_type": "code",
      "metadata": {
        "id": "RqGfjW9OywTw"
      },
      "source": [
        ""
      ],
      "execution_count": null,
      "outputs": []
    }
  ]
}